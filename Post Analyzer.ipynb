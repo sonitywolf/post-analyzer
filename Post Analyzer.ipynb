{
 "cells": [
  {
   "cell_type": "markdown",
   "metadata": {},
   "source": [
    "<img src=\"http://andtek.pro/wp-content/uploads/2016/12/Sonity-FINAL-350x350.jpg\" width=\"240\" height=\"240\" align=\"center\"/>\n",
    "\n",
    "# SonityWolf Post Analyzer\n",
    "\n",
    "## Microtargeting tool\n",
    "\n",
    "Based on the information provided by the profilecrawl, this notebook generates hashtags microtargeting the users based on the analysis of your profile"
   ]
  },
  {
   "cell_type": "code",
   "execution_count": 191,
   "metadata": {},
   "outputs": [],
   "source": [
    "#dependences:\n",
    "from os import listdir\n",
    "from os.path import isfile, join\n",
    "import json\n",
    "from pprint import pprint\n",
    "from collections import Counter\n",
    "from IPython.core.display import display, HTML"
   ]
  },
  {
   "cell_type": "code",
   "execution_count": 192,
   "metadata": {},
   "outputs": [
    {
     "name": "stdout",
     "output_type": "stream",
     "text": [
      "Accounts Avalaible:\n",
      "0 - andtek.pro\n",
      "1 - patrick_maciazek\n"
     ]
    }
   ],
   "source": [
    "accounts = [f.replace(\".json\",\"\") for f in listdir(\"./accounts\") if isfile(join(\"./accounts\", f))]\n",
    "print(\"Accounts Avalaible:\")\n",
    "for index, account in enumerate(accounts):\n",
    "    print(f\"{index} - {account}\")"
   ]
  },
  {
   "cell_type": "code",
   "execution_count": 193,
   "metadata": {},
   "outputs": [],
   "source": [
    "account = accounts[0] #Choose one of the list starting from 0"
   ]
  },
  {
   "cell_type": "code",
   "execution_count": 194,
   "metadata": {},
   "outputs": [
    {
     "data": {
      "text/plain": [
       "'andtek.pro'"
      ]
     },
     "execution_count": 194,
     "metadata": {},
     "output_type": "execute_result"
    }
   ],
   "source": [
    "account"
   ]
  },
  {
   "cell_type": "code",
   "execution_count": 209,
   "metadata": {},
   "outputs": [],
   "source": [
    "with open(f\"accounts/{account}.json\") as f:\n",
    "    data = json.load(f)\n",
    "# pprint(data)"
   ]
  },
  {
   "cell_type": "code",
   "execution_count": 196,
   "metadata": {},
   "outputs": [],
   "source": [
    "#Get All Tags\n",
    "all_tags = []\n",
    "\n",
    "for post in data['posts']:\n",
    "    all_tags += post['tags']"
   ]
  },
  {
   "cell_type": "code",
   "execution_count": 211,
   "metadata": {},
   "outputs": [],
   "source": [
    "hashtag_counter = Counter([x.lower() for x in all_tags])\n",
    "\n",
    "#pprint(hashtag_counter)"
   ]
  },
  {
   "cell_type": "code",
   "execution_count": 208,
   "metadata": {},
   "outputs": [
    {
     "data": {
      "text/plain": [
       "'#music #cool #me #keyboard #apple #korg #art #ibanez #ipad #piano #musician #guitar #rockprog #roland #rock #tagsforlikes #mac #programming #myroland #canada #midi #toronto #caracas #friends #venezuela #electricguitar #recording #fila2015 #animation #fantom #kronos #composing #gopro #cinema4d #musican #keyboards #nvidia #cubase #oasys #macbook '"
      ]
     },
     "execution_count": 208,
     "metadata": {},
     "output_type": "execute_result"
    }
   ],
   "source": [
    "hashtag_render = \"\"\n",
    "for ht in [tup[0] for tup in hashtag_counter.most_common(40)]:\n",
    "    hashtag_render += ht + \" \"\n",
    "hashtag_render"
   ]
  },
  {
   "cell_type": "code",
   "execution_count": 212,
   "metadata": {},
   "outputs": [
    {
     "data": {
      "text/plain": [
       "'music cool me keyboard apple korg art ibanez ipad piano musician guitar rockprog roland rock tagsforlikes mac programming myroland canada midi toronto caracas friends venezuela electricguitar recording fila2015 animation fantom kronos composing gopro cinema4d musican keyboards nvidia cubase oasys macbook '"
      ]
     },
     "execution_count": 212,
     "metadata": {},
     "output_type": "execute_result"
    }
   ],
   "source": [
    "hashtag_render.replace(\"#\",\"\")"
   ]
  },
  {
   "cell_type": "code",
   "execution_count": 199,
   "metadata": {},
   "outputs": [
    {
     "name": "stdout",
     "output_type": "stream",
     "text": [
      "['#music', '#cool', '#me', '#keyboard', '#apple', '#korg', '#art', '#ibanez', '#ipad', '#piano', '#musician', '#guitar', '#rockprog', '#roland', '#rock', '#tagsforlikes', '#mac', '#programming', '#myroland', '#canada']\n"
     ]
    },
    {
     "data": {
      "image/png": "[encoded data removed]",
      "text/plain": [
       "<matplotlib.figure.Figure at 0x2a3b088ed30>"
      ]
     },
     "metadata": {},
     "output_type": "display_data"
    }
   ],
   "source": [
    "%matplotlib inline\n",
    "from matplotlib import pyplot as plt\n",
    "import pandas as pd\n",
    "\n",
    "graph = hashtag_counter.most_common(20)\n",
    "\n",
    "x = [tup[0] for tup in graph]\n",
    "y = [tup[1] for tup in graph]\n",
    "\n",
    "print(x)\n",
    "s = pd.Series(y, index=x)\n",
    "\n",
    "s.plot.bar(figsize=(20,10))\n",
    "plt.xlabel('Hashtags')\n",
    "plt.ylabel('Number of apparition in posts')\n",
    "plt.title(\"Hashtags Usage\");"
   ]
  },
  {
   "cell_type": "code",
   "execution_count": 200,
   "metadata": {},
   "outputs": [
    {
     "data": {
      "text/html": [
       "<img src=https://instagram.fybz2-2.fna.fbcdn.net/vp/4cf11ceb545effe7f4622890c15dfdfe/5BA25F4E/t51.2885-15/e35/15251784_406458766410633_6926493114014105600_n.jpg align=\"center\"/>"
      ],
      "text/plain": [
       "<IPython.core.display.HTML object>"
      ]
     },
     "metadata": {},
     "output_type": "display_data"
    },
    {
     "name": "stdout",
     "output_type": "stream",
     "text": [
      "{'caption': 'Studio Sessions! #music #studio',\n",
      " 'comments': 11,\n",
      " 'date': '2016-12-01T04:30:52.000Z',\n",
      " 'img': 'https://instagram.fybz2-2.fna.fbcdn.net/vp/4cf11ceb545effe7f4622890c15dfdfe/5BA25F4E/t51.2885-15/e35/15251784_406458766410633_6926493114014105600_n.jpg',\n",
      " 'likes': 245,\n",
      " 'location': {'latitude': '',\n",
      "              'location_id': 0,\n",
      "              'location_name': '',\n",
      "              'location_url': '',\n",
      "              'longitude': ''},\n",
      " 'tags': ['#music', '#studio']}\n"
     ]
    }
   ],
   "source": [
    "#Most Liked Post\n",
    "most_liked = {'likes':0}\n",
    "for post in data['posts']:\n",
    "    if post['likes'] > most_liked['likes']:\n",
    "        most_liked = post\n",
    "display(HTML(f\"<img src={most_liked['img']} align=\\\"center\\\"/>\"))\n",
    "pprint(most_liked)"
   ]
  },
  {
   "cell_type": "code",
   "execution_count": 203,
   "metadata": {},
   "outputs": [
    {
     "data": {
      "text/html": [
       "<img src=https://instagram.fybz2-2.fna.fbcdn.net/vp/1d10af9423fa31ba92cf834f0b2167a9/5BAD4297/t51.2885-15/e15/11327218_730127970432153_692778144_n.jpg align=\"center\"/>"
      ],
      "text/plain": [
       "<IPython.core.display.HTML object>"
      ]
     },
     "metadata": {},
     "output_type": "display_data"
    },
    {
     "name": "stdout",
     "output_type": "stream",
     "text": [
      "{'caption': 'Nos vemos el viernes 12 de junio en el teatrex el bosque!!! '\n",
      "            '#GrupoASA #working #theater #cool',\n",
      " 'comments': 0,\n",
      " 'date': '2015-05-28T11:16:34.000Z',\n",
      " 'img': 'https://instagram.fybz2-2.fna.fbcdn.net/vp/1d10af9423fa31ba92cf834f0b2167a9/5BAD4297/t51.2885-15/e15/11327218_730127970432153_692778144_n.jpg',\n",
      " 'likes': 18,\n",
      " 'location': {'latitude': '',\n",
      "              'location_id': 0,\n",
      "              'location_name': '',\n",
      "              'location_url': '',\n",
      "              'longitude': ''},\n",
      " 'tags': ['#GrupoASA', '#working', '#theater', '#cool']}\n"
     ]
    }
   ],
   "source": [
    "#less_liked\n",
    "for post in data['posts']:\n",
    "    try:    \n",
    "        if post['likes'] < most_liked['likes']:\n",
    "            less_liked = post\n",
    "    except:\n",
    "        less_liked = post\n",
    "\n",
    "display(HTML(f\"<img src={less_liked['img']} align=\\\"center\\\"/>\"))\n",
    "pprint(less_liked)"
   ]
  },
  {
   "cell_type": "code",
   "execution_count": null,
   "metadata": {},
   "outputs": [],
   "source": []
  }
 ],
 "metadata": {
  "kernelspec": {
   "display_name": "Python 3",
   "language": "python",
   "name": "python3"
  },
  "language_info": {
   "codemirror_mode": {
    "name": "ipython",
    "version": 3
   },
   "file_extension": ".py",
   "mimetype": "text/x-python",
   "name": "python",
   "nbconvert_exporter": "python",
   "pygments_lexer": "ipython3",
   "version": "3.6.4"
  }
 },
 "nbformat": 4,
 "nbformat_minor": 2
}
